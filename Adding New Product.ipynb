{
 "cells": [
  {
   "cell_type": "markdown",
   "id": "44339c06",
   "metadata": {},
   "source": [
    "# Read The Json File"
   ]
  },
  {
   "cell_type": "code",
   "execution_count": 1,
   "id": "0e5c2876",
   "metadata": {},
   "outputs": [],
   "source": [
    "import json\n",
    "fs=open(\"record.json\",\"r\")\n",
    "\n",
    "r=fs.read()\n",
    "fs.close()"
   ]
  },
  {
   "cell_type": "code",
   "execution_count": 2,
   "id": "f3ed75ec",
   "metadata": {},
   "outputs": [
    {
     "data": {
      "text/plain": [
       "'{\"1001\": {\"name\": \"Choco Cake\", \"qn\": 27, \"pr\": 100}, \"1002\": {\"name\": \"Milk Cake\", \"pr\": 800, \"qn\": 94}, \"1003\": {\"name\": \"Drink\", \"pr\": 85, \"qn\": 94}, \"1004\": {\"name\": \"Candy\", \"pr\": 5, \"qn\": 993}, \"1005\": {\"name\": \"Pen\", \"pr\": 20, \"qn\": 95}, \"1006\": {\"name\": \"Phone\", \"pr\": 50000, \"qn\": 9}, \"1007\": {\"name\": \"Mic\", \"pr\": 1500, \"qn\": 0}, \"1008\": {\"name\": \"Case\", \"pr\": 599, \"qn\": 3}, \"1009\": {\"name\": \"Keyboard\", \"pr\": 1999, \"qn\": 6}, \"1010\": {\"name\": \"milk\", \"qn\": 29, \"pr\": 20}, \"1011\": {\"name\": \"toy car\", \"qn\": 200, \"pr\": 150}, \"1012\": {\"name\": \"notebook\", \"qn\": 300, \"pr\": 55}, \"1013\": {\"name\": \"Book\", \"qn\": 149, \"pr\": 200}, \"1014\": {\"name\": \"mouse\", \"qn\": 596, \"pr\": 300}, \"1015\": {\"name\": \"Pencils\", \"qn\": 476, \"pr\": 5}}'"
      ]
     },
     "execution_count": 2,
     "metadata": {},
     "output_type": "execute_result"
    }
   ],
   "source": [
    "r"
   ]
  },
  {
   "cell_type": "code",
   "execution_count": 3,
   "id": "8ec8c757",
   "metadata": {},
   "outputs": [],
   "source": [
    "record=json.loads(r)"
   ]
  },
  {
   "cell_type": "code",
   "execution_count": 4,
   "id": "fdc960f4",
   "metadata": {},
   "outputs": [
    {
     "data": {
      "text/plain": [
       "{'1001': {'name': 'Choco Cake', 'qn': 27, 'pr': 100},\n",
       " '1002': {'name': 'Milk Cake', 'pr': 800, 'qn': 94},\n",
       " '1003': {'name': 'Drink', 'pr': 85, 'qn': 94},\n",
       " '1004': {'name': 'Candy', 'pr': 5, 'qn': 993},\n",
       " '1005': {'name': 'Pen', 'pr': 20, 'qn': 95},\n",
       " '1006': {'name': 'Phone', 'pr': 50000, 'qn': 9},\n",
       " '1007': {'name': 'Mic', 'pr': 1500, 'qn': 0},\n",
       " '1008': {'name': 'Case', 'pr': 599, 'qn': 3},\n",
       " '1009': {'name': 'Keyboard', 'pr': 1999, 'qn': 6},\n",
       " '1010': {'name': 'milk', 'qn': 29, 'pr': 20},\n",
       " '1011': {'name': 'toy car', 'qn': 200, 'pr': 150},\n",
       " '1012': {'name': 'notebook', 'qn': 300, 'pr': 55},\n",
       " '1013': {'name': 'Book', 'qn': 149, 'pr': 200},\n",
       " '1014': {'name': 'mouse', 'qn': 596, 'pr': 300},\n",
       " '1015': {'name': 'Pencils', 'qn': 476, 'pr': 5}}"
      ]
     },
     "execution_count": 4,
     "metadata": {},
     "output_type": "execute_result"
    }
   ],
   "source": [
    "record"
   ]
  },
  {
   "cell_type": "markdown",
   "id": "a33cce98",
   "metadata": {},
   "source": [
    "# #Add new item in inventory"
   ]
  },
  {
   "cell_type": "code",
   "execution_count": 5,
   "id": "f8fb6aaa",
   "metadata": {},
   "outputs": [
    {
     "name": "stdout",
     "output_type": "stream",
     "text": [
      "ENTER THE PRODUCT ID =>>>1016\n",
      "ENTER THE PRODUCT NAME =>>>penciles\n",
      "ENTER THE PRODUCT QULITY =>>>30\n",
      "ENTER THE PRODUCT PRICE =>>>6\n"
     ]
    }
   ],
   "source": [
    "\n",
    "prod_id=str(input(\"ENTER THE PRODUCT ID =>>>\"))\n",
    "name=str(input(\"ENTER THE PRODUCT NAME =>>>\"))\n",
    "qulity=int(input(\"ENTER THE PRODUCT QULITY =>>>\"))\n",
    "price=int(input(\"ENTER THE PRODUCT PRICE =>>>\"))\n",
    "\n",
    "\n",
    "\n",
    "record[prod_id]={\"name\":name ,'qn':qulity ,\"pr\":price}\n",
    "\n",
    "js=json.dumps(record)\n",
    "fs=open(\"record.json\",\"w\")\n",
    "fs.write(js)\n",
    "fs.close()\n",
    "\n"
   ]
  },
  {
   "cell_type": "code",
   "execution_count": 6,
   "id": "60828542",
   "metadata": {},
   "outputs": [
    {
     "data": {
      "text/plain": [
       "{'1001': {'name': 'Choco Cake', 'qn': 27, 'pr': 100},\n",
       " '1002': {'name': 'Milk Cake', 'pr': 800, 'qn': 94},\n",
       " '1003': {'name': 'Drink', 'pr': 85, 'qn': 94},\n",
       " '1004': {'name': 'Candy', 'pr': 5, 'qn': 993},\n",
       " '1005': {'name': 'Pen', 'pr': 20, 'qn': 95},\n",
       " '1006': {'name': 'Phone', 'pr': 50000, 'qn': 9},\n",
       " '1007': {'name': 'Mic', 'pr': 1500, 'qn': 0},\n",
       " '1008': {'name': 'Case', 'pr': 599, 'qn': 3},\n",
       " '1009': {'name': 'Keyboard', 'pr': 1999, 'qn': 6},\n",
       " '1010': {'name': 'milk', 'qn': 29, 'pr': 20},\n",
       " '1011': {'name': 'toy car', 'qn': 200, 'pr': 150},\n",
       " '1012': {'name': 'notebook', 'qn': 300, 'pr': 55},\n",
       " '1013': {'name': 'Book', 'qn': 149, 'pr': 200},\n",
       " '1014': {'name': 'mouse', 'qn': 596, 'pr': 300},\n",
       " '1015': {'name': 'Pencils', 'qn': 476, 'pr': 5},\n",
       " '1016': {'name': 'penciles', 'qn': 30, 'pr': 6}}"
      ]
     },
     "execution_count": 6,
     "metadata": {},
     "output_type": "execute_result"
    }
   ],
   "source": [
    "record\n"
   ]
  },
  {
   "cell_type": "code",
   "execution_count": null,
   "id": "e460d00c",
   "metadata": {},
   "outputs": [],
   "source": []
  },
  {
   "cell_type": "code",
   "execution_count": null,
   "id": "ddf1e0ba",
   "metadata": {},
   "outputs": [],
   "source": []
  },
  {
   "cell_type": "code",
   "execution_count": null,
   "id": "7e394421",
   "metadata": {},
   "outputs": [],
   "source": []
  },
  {
   "cell_type": "code",
   "execution_count": null,
   "id": "e2a14c71",
   "metadata": {},
   "outputs": [],
   "source": []
  },
  {
   "cell_type": "code",
   "execution_count": null,
   "id": "23eceb1b",
   "metadata": {},
   "outputs": [],
   "source": []
  },
  {
   "cell_type": "code",
   "execution_count": null,
   "id": "253fa84c",
   "metadata": {},
   "outputs": [],
   "source": []
  }
 ],
 "metadata": {
  "kernelspec": {
   "display_name": "Python 3",
   "language": "python",
   "name": "python3"
  },
  "language_info": {
   "codemirror_mode": {
    "name": "ipython",
    "version": 3
   },
   "file_extension": ".py",
   "mimetype": "text/x-python",
   "name": "python",
   "nbconvert_exporter": "python",
   "pygments_lexer": "ipython3",
   "version": "3.7.11"
  }
 },
 "nbformat": 4,
 "nbformat_minor": 5
}
